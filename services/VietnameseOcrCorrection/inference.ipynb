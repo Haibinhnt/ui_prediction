{
 "cells": [
  {
   "cell_type": "code",
   "metadata": {
    "ExecuteTime": {
     "end_time": "2024-06-28T09:30:01.735857Z",
     "start_time": "2024-06-28T09:29:59.212455Z"
    }
   },
   "source": [
    "from tool.predictor import Predictor\n",
    "import time\n",
    "from tool.utils import extract_phrases\n",
    "\n",
    "model_predictor = Predictor(device='cpu', model_type='seq2seq', weight_path='./weights/seq2seq_0.pth')"
   ],
   "outputs": [],
   "execution_count": 2
  },
  {
   "metadata": {
    "ExecuteTime": {
     "end_time": "2024-06-28T14:23:57.965993Z",
     "start_time": "2024-06-28T14:23:57.963652Z"
    }
   },
   "cell_type": "code",
   "source": "paragraphs = \"Công ty có chính sách đào tạo nhân viên với mục tiêu phát triển đội ngũ cán bộ quản lý có năng lực, kinh nghiệm, đội ngũ nhân viên thành thạo nghiệp vụ, lực lượng công nhân lành nghê và tác phong làm việc chuyên nghiệp.. Chính sách đối với người lao động. Ngoài tiền lương, người lao động trong công ty còn được hưởng chế tích đạt được và các khoản thưởng nhân các dịp lê, têt. khen thưởng tuỳ theo thành\"",
   "outputs": [],
   "execution_count": 17
  },
  {
   "metadata": {
    "ExecuteTime": {
     "end_time": "2024-06-28T14:24:01.178448Z",
     "start_time": "2024-06-28T14:24:01.075362Z"
    }
   },
   "cell_type": "code",
   "source": "outs = model_predictor.predict(paragraphs.strip(), NGRAM=6)",
   "outputs": [],
   "execution_count": 18
  },
  {
   "metadata": {
    "ExecuteTime": {
     "end_time": "2024-06-28T14:24:02.494845Z",
     "start_time": "2024-06-28T14:24:02.492320Z"
    }
   },
   "cell_type": "code",
   "source": "outs",
   "outputs": [
    {
     "data": {
      "text/plain": [
       "'Công ty có chính sách đào tạo nhân viên với mục tiêu phát triển đội ngũ cán bộ quản lý có năng lực, kinh nghiệm, đội ngũ nhân viên thành thạo nghiệp vụ, lực lượng công nhân lành nghề và tác phong làm việc chuyên nghiệp.. Chính sách đối với người lao động. Ngoài tiền lương, người lao động trong công ty còn được hưởng chế tích đạt được và các khoản thưởng nhân các dịp lễ,têt. khen thưởng tuỳ theo thành'"
      ]
     },
     "execution_count": 19,
     "metadata": {},
     "output_type": "execute_result"
    }
   ],
   "execution_count": 19
  },
  {
   "metadata": {},
   "cell_type": "code",
   "outputs": [],
   "execution_count": null,
   "source": ""
  }
 ],
 "metadata": {
  "kernelspec": {
   "display_name": "Python 3 (ipykernel)",
   "language": "python",
   "name": "python3"
  },
  "language_info": {
   "codemirror_mode": {
    "name": "ipython",
    "version": 3
   },
   "file_extension": ".py",
   "mimetype": "text/x-python",
   "name": "python",
   "nbconvert_exporter": "python",
   "pygments_lexer": "ipython3",
   "version": "3.7.10"
  }
 },
 "nbformat": 4,
 "nbformat_minor": 4
}
